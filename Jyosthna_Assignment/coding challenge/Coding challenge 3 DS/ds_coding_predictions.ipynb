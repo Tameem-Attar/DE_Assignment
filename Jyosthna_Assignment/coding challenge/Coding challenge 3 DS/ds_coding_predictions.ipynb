{
 "cells": [
  {
   "cell_type": "code",
   "execution_count": 1,
   "id": "c1ba11ae",
   "metadata": {},
   "outputs": [],
   "source": [
    "import numpy as np\n",
    "import pandas as pd\n",
    "import scipy.stats as stats\n",
    "import statsmodels.stats.api as sms\n",
    "import matplotlib as mpl\n",
    "import matplotlib.pyplot as plt\n",
    "import seaborn as sns\n",
    "from sklearn.model_selection import train_test_split\n",
    "from sklearn.preprocessing import LabelEncoder\n",
    "from sklearn.linear_model import LinearRegression\n",
    "from sklearn.metrics import mean_squared_error"
   ]
  },
  {
   "cell_type": "code",
   "execution_count": 3,
   "id": "bce678ac",
   "metadata": {},
   "outputs": [],
   "source": [
    "train_df = pd.read_csv(\"C:\\\\Users\\\\SaiJyosthnaYenumula\\\\OneDrive - Blend 360\\\\Desktop\\\\COHORT10\\\\coding challenge\\\\Coding challenge 3 DS\\\\train.csv\")\n",
    "test_df = pd.read_csv(\"C:\\\\Users\\\\SaiJyosthnaYenumula\\\\OneDrive - Blend 360\\\\Desktop\\\\COHORT10\\\\coding challenge\\\\Coding challenge 3 DS\\\\test.csv\")"
   ]
  },
  {
   "cell_type": "code",
   "execution_count": 4,
   "id": "9942b7a5",
   "metadata": {},
   "outputs": [],
   "source": [
    "train_df = train_df.rename(columns={'Store_no.': 'Store'})\n",
    "test_df = test_df.rename(columns={'Store_no.': 'Store'})"
   ]
  },
  {
   "cell_type": "code",
   "execution_count": 5,
   "id": "b8229b93",
   "metadata": {},
   "outputs": [],
   "source": [
    "stores=pd.read_csv(\"C:\\\\Users\\\\SaiJyosthnaYenumula\\\\OneDrive - Blend 360\\\\Desktop\\\\COHORT10\\\\coding challenge\\\\Coding challenge 3 DS\\\\stores.csv\")"
   ]
  },
  {
   "cell_type": "code",
   "execution_count": 6,
   "id": "f8e2e628",
   "metadata": {},
   "outputs": [],
   "source": [
    "train_df = pd.merge(train_df, stores, on='Store', how='inner')\n",
    "test_df = pd.merge(test_df, stores, on='Store', how='inner')"
   ]
  },
  {
   "cell_type": "code",
   "execution_count": 7,
   "id": "a2cd779f",
   "metadata": {},
   "outputs": [],
   "source": [
    "train_df['Date'] = pd.to_datetime(train_df['Date'], format='%d-%m-%Y')\n",
    "# extract year, week, and month into new columns\n",
    "train_df['year'], train_df['week'], _ = zip(*train_df['Date'].apply(lambda x: x.isocalendar()))\n",
    "train_df['month'] = train_df['Date'].dt.month"
   ]
  },
  {
   "cell_type": "code",
   "execution_count": 8,
   "id": "f7595a2d",
   "metadata": {},
   "outputs": [],
   "source": [
    "test_df['Date'] = pd.to_datetime(test_df['Date'], format='%d-%m-%Y')\n",
    "# extract year, week, and month into new columns\n",
    "test_df['year'], test_df['week'], _ = zip(*test_df['Date'].apply(lambda x: x.isocalendar()))\n",
    "test_df['month'] = test_df['Date'].dt.month"
   ]
  },
  {
   "cell_type": "code",
   "execution_count": 9,
   "id": "ca23a16a",
   "metadata": {},
   "outputs": [],
   "source": [
    "train_df.drop('Date',axis=1,inplace=True)\n",
    "test_df.drop('Date',axis=1,inplace=True)"
   ]
  },
  {
   "cell_type": "code",
   "execution_count": 10,
   "id": "47629cfb",
   "metadata": {},
   "outputs": [],
   "source": [
    "train_df = pd.get_dummies(train_df, columns=['Type'],drop_first=True)\n",
    "#label_encoder = LabelEncoder()\n",
    "#train_df['Store'] = label_encoder.fit_transform(train_df['Store'])\n",
    "#train_df['Department'] = label_encoder.fit_transform(train_df['Department'])"
   ]
  },
  {
   "cell_type": "code",
   "execution_count": 11,
   "id": "6c9dc68d",
   "metadata": {},
   "outputs": [],
   "source": [
    "test_df = pd.get_dummies(test_df, columns=['Type'], drop_first=True)\n",
    "#test_df['Store'] = label_encoder.fit_transform(test_df['Store'])\n",
    "#test_df['Department'] = label_encoder.fit_transform(test_df['Department'])"
   ]
  },
  {
   "cell_type": "code",
   "execution_count": 12,
   "id": "79803a98",
   "metadata": {},
   "outputs": [
    {
     "data": {
      "text/plain": [
       "-15.00     25\n",
       "-5.00      14\n",
       "-2.00      13\n",
       "-4.00       9\n",
       "-12.00      9\n",
       "           ..\n",
       "-5.12       1\n",
       "-42.78      1\n",
       "-465.08     1\n",
       "-90.00      1\n",
       "-0.24       1\n",
       "Name: Weekly_sales, Length: 408, dtype: int64"
      ]
     },
     "execution_count": 12,
     "metadata": {},
     "output_type": "execute_result"
    }
   ],
   "source": [
    "train_df[train_df['Weekly_sales']<0]['Weekly_sales'].value_counts()"
   ]
  },
  {
   "cell_type": "code",
   "execution_count": 13,
   "id": "6f62da4e",
   "metadata": {},
   "outputs": [],
   "source": [
    "train_df=train_df[train_df['Weekly_sales']>0]"
   ]
  },
  {
   "cell_type": "code",
   "execution_count": 14,
   "id": "5d52d3d0",
   "metadata": {},
   "outputs": [],
   "source": [
    "# split the train data into train and validation sets\n",
    "from sklearn.model_selection import train_test_split\n",
    "\n",
    "X = train_df.drop(['Weekly_sales'], axis=1)\n",
    "y = train_df['Weekly_sales']\n",
    "X_train, X_val, y_train, y_val = train_test_split(X, y, test_size=0.2, random_state=42)"
   ]
  },
  {
   "cell_type": "code",
   "execution_count": null,
   "id": "0cef33a7",
   "metadata": {},
   "outputs": [],
   "source": []
  },
  {
   "cell_type": "code",
   "execution_count": 15,
   "id": "3b7bdeea",
   "metadata": {
    "scrolled": true
   },
   "outputs": [
    {
     "name": "stdout",
     "output_type": "stream",
     "text": [
      "MAPE for Linear Regression: 133.32884896100617\n",
      "MAPE for Random Forest Regression: 0.654504155143873\n",
      "MAPE for Gradient Boosting Regression: 73.33677686149912\n"
     ]
    }
   ],
   "source": [
    "# linear regression model\n",
    "from sklearn.linear_model import LinearRegression\n",
    "from sklearn.metrics import mean_squared_error\n",
    "from sklearn.metrics import mean_absolute_percentage_error\n",
    "\n",
    "lr_model = LinearRegression()\n",
    "lr_model.fit(X_train, y_train)\n",
    "\n",
    "y_pred = lr_model.predict(X_val)\n",
    "mape = mean_absolute_percentage_error(y_val, y_pred)\n",
    "print(f\"MAPE for Linear Regression: {mape}\")\n",
    "\n",
    "# random forest regression model\n",
    "from sklearn.ensemble import RandomForestRegressor\n",
    "\n",
    "rf_model = RandomForestRegressor(random_state=42)\n",
    "rf_model.fit(X_train, y_train)\n",
    "\n",
    "y_pred = rf_model.predict(X_val)\n",
    "mape = mean_absolute_percentage_error(y_val, y_pred)\n",
    "print(f\"MAPE for Random Forest Regression: {mape}\")\n",
    "\n",
    "# gradient boosting regression model\n",
    "from sklearn.ensemble import GradientBoostingRegressor\n",
    "\n",
    "gb_model = GradientBoostingRegressor(random_state=42)\n",
    "gb_model.fit(X_train, y_train)\n",
    "\n",
    "y_pred = gb_model.predict(X_val)\n",
    "mape = mean_absolute_percentage_error(y_val, y_pred)\n",
    "print(f\"MAPE for Gradient Boosting Regression: {mape}\")"
   ]
  },
  {
   "cell_type": "code",
   "execution_count": 16,
   "id": "bb1e2a7a",
   "metadata": {},
   "outputs": [
    {
     "name": "stdout",
     "output_type": "stream",
     "text": [
      "Requirement already satisfied: xgboost in c:\\users\\saijyosthnayenumula\\anaconda3\\lib\\site-packages (1.7.5)\n",
      "Requirement already satisfied: scipy in c:\\users\\saijyosthnayenumula\\anaconda3\\lib\\site-packages (from xgboost) (1.10.0)\n",
      "Requirement already satisfied: numpy in c:\\users\\saijyosthnayenumula\\anaconda3\\lib\\site-packages (from xgboost) (1.23.5)\n",
      "Note: you may need to restart the kernel to use updated packages.\n"
     ]
    }
   ],
   "source": [
    "pip install xgboost"
   ]
  },
  {
   "cell_type": "code",
   "execution_count": 17,
   "id": "46b99ebd",
   "metadata": {},
   "outputs": [
    {
     "name": "stdout",
     "output_type": "stream",
     "text": [
      "MAPE for XGBoosting Regression: 26.326513378238793\n"
     ]
    }
   ],
   "source": [
    "from xgboost import XGBRegressor as xgb\n",
    "x = xgb(random_state=42)\n",
    "x.fit(X_train, y_train)\n",
    "\n",
    "y_pred = x.predict(X_val)\n",
    "mape = mean_absolute_percentage_error(y_val, y_pred)\n",
    "print(f\"MAPE for XGBoosting Regression: {mape}\")"
   ]
  },
  {
   "cell_type": "code",
   "execution_count": null,
   "id": "32c7df31",
   "metadata": {},
   "outputs": [],
   "source": []
  },
  {
   "cell_type": "code",
   "execution_count": null,
   "id": "f800a335",
   "metadata": {},
   "outputs": [],
   "source": []
  },
  {
   "cell_type": "code",
   "execution_count": 18,
   "id": "d47afb5e",
   "metadata": {},
   "outputs": [],
   "source": [
    "test_pred=rf_model.predict(test_df)\n",
    "test_df['Weekly_sales']=test_pred"
   ]
  },
  {
   "cell_type": "code",
   "execution_count": 19,
   "id": "28e7ab11",
   "metadata": {},
   "outputs": [
    {
     "data": {
      "text/html": [
       "<div>\n",
       "<style scoped>\n",
       "    .dataframe tbody tr th:only-of-type {\n",
       "        vertical-align: middle;\n",
       "    }\n",
       "\n",
       "    .dataframe tbody tr th {\n",
       "        vertical-align: top;\n",
       "    }\n",
       "\n",
       "    .dataframe thead th {\n",
       "        text-align: right;\n",
       "    }\n",
       "</style>\n",
       "<table border=\"1\" class=\"dataframe\">\n",
       "  <thead>\n",
       "    <tr style=\"text-align: right;\">\n",
       "      <th></th>\n",
       "      <th>Store</th>\n",
       "      <th>Department</th>\n",
       "      <th>Holiday_ind</th>\n",
       "      <th>Size</th>\n",
       "      <th>year</th>\n",
       "      <th>week</th>\n",
       "      <th>month</th>\n",
       "      <th>Type_B</th>\n",
       "      <th>Type_C</th>\n",
       "      <th>Weekly_sales</th>\n",
       "    </tr>\n",
       "  </thead>\n",
       "  <tbody>\n",
       "    <tr>\n",
       "      <th>0</th>\n",
       "      <td>1</td>\n",
       "      <td>1</td>\n",
       "      <td>0</td>\n",
       "      <td>151315</td>\n",
       "      <td>2018</td>\n",
       "      <td>31</td>\n",
       "      <td>8</td>\n",
       "      <td>0</td>\n",
       "      <td>0</td>\n",
       "      <td>16383.8111</td>\n",
       "    </tr>\n",
       "    <tr>\n",
       "      <th>1</th>\n",
       "      <td>1</td>\n",
       "      <td>1</td>\n",
       "      <td>0</td>\n",
       "      <td>151315</td>\n",
       "      <td>2018</td>\n",
       "      <td>32</td>\n",
       "      <td>8</td>\n",
       "      <td>0</td>\n",
       "      <td>0</td>\n",
       "      <td>15882.6427</td>\n",
       "    </tr>\n",
       "    <tr>\n",
       "      <th>2</th>\n",
       "      <td>1</td>\n",
       "      <td>1</td>\n",
       "      <td>0</td>\n",
       "      <td>151315</td>\n",
       "      <td>2018</td>\n",
       "      <td>33</td>\n",
       "      <td>8</td>\n",
       "      <td>0</td>\n",
       "      <td>0</td>\n",
       "      <td>15888.7380</td>\n",
       "    </tr>\n",
       "    <tr>\n",
       "      <th>3</th>\n",
       "      <td>1</td>\n",
       "      <td>1</td>\n",
       "      <td>0</td>\n",
       "      <td>151315</td>\n",
       "      <td>2018</td>\n",
       "      <td>34</td>\n",
       "      <td>8</td>\n",
       "      <td>0</td>\n",
       "      <td>0</td>\n",
       "      <td>15852.0714</td>\n",
       "    </tr>\n",
       "    <tr>\n",
       "      <th>4</th>\n",
       "      <td>1</td>\n",
       "      <td>1</td>\n",
       "      <td>0</td>\n",
       "      <td>151315</td>\n",
       "      <td>2018</td>\n",
       "      <td>35</td>\n",
       "      <td>8</td>\n",
       "      <td>0</td>\n",
       "      <td>0</td>\n",
       "      <td>15931.9417</td>\n",
       "    </tr>\n",
       "    <tr>\n",
       "      <th>...</th>\n",
       "      <td>...</td>\n",
       "      <td>...</td>\n",
       "      <td>...</td>\n",
       "      <td>...</td>\n",
       "      <td>...</td>\n",
       "      <td>...</td>\n",
       "      <td>...</td>\n",
       "      <td>...</td>\n",
       "      <td>...</td>\n",
       "      <td>...</td>\n",
       "    </tr>\n",
       "    <tr>\n",
       "      <th>22100</th>\n",
       "      <td>30</td>\n",
       "      <td>83</td>\n",
       "      <td>0</td>\n",
       "      <td>118221</td>\n",
       "      <td>2018</td>\n",
       "      <td>39</td>\n",
       "      <td>9</td>\n",
       "      <td>1</td>\n",
       "      <td>0</td>\n",
       "      <td>472.3450</td>\n",
       "    </tr>\n",
       "    <tr>\n",
       "      <th>22101</th>\n",
       "      <td>30</td>\n",
       "      <td>83</td>\n",
       "      <td>0</td>\n",
       "      <td>118221</td>\n",
       "      <td>2018</td>\n",
       "      <td>40</td>\n",
       "      <td>10</td>\n",
       "      <td>1</td>\n",
       "      <td>0</td>\n",
       "      <td>524.2162</td>\n",
       "    </tr>\n",
       "    <tr>\n",
       "      <th>22102</th>\n",
       "      <td>30</td>\n",
       "      <td>83</td>\n",
       "      <td>0</td>\n",
       "      <td>118221</td>\n",
       "      <td>2018</td>\n",
       "      <td>41</td>\n",
       "      <td>10</td>\n",
       "      <td>1</td>\n",
       "      <td>0</td>\n",
       "      <td>533.6894</td>\n",
       "    </tr>\n",
       "    <tr>\n",
       "      <th>22103</th>\n",
       "      <td>30</td>\n",
       "      <td>83</td>\n",
       "      <td>0</td>\n",
       "      <td>118221</td>\n",
       "      <td>2018</td>\n",
       "      <td>42</td>\n",
       "      <td>10</td>\n",
       "      <td>1</td>\n",
       "      <td>0</td>\n",
       "      <td>581.9308</td>\n",
       "    </tr>\n",
       "    <tr>\n",
       "      <th>22104</th>\n",
       "      <td>30</td>\n",
       "      <td>83</td>\n",
       "      <td>0</td>\n",
       "      <td>118221</td>\n",
       "      <td>2018</td>\n",
       "      <td>43</td>\n",
       "      <td>10</td>\n",
       "      <td>1</td>\n",
       "      <td>0</td>\n",
       "      <td>612.8824</td>\n",
       "    </tr>\n",
       "  </tbody>\n",
       "</table>\n",
       "<p>22105 rows × 10 columns</p>\n",
       "</div>"
      ],
      "text/plain": [
       "       Store  Department  Holiday_ind    Size  year  week  month  Type_B  \\\n",
       "0          1           1            0  151315  2018    31      8       0   \n",
       "1          1           1            0  151315  2018    32      8       0   \n",
       "2          1           1            0  151315  2018    33      8       0   \n",
       "3          1           1            0  151315  2018    34      8       0   \n",
       "4          1           1            0  151315  2018    35      8       0   \n",
       "...      ...         ...          ...     ...   ...   ...    ...     ...   \n",
       "22100     30          83            0  118221  2018    39      9       1   \n",
       "22101     30          83            0  118221  2018    40     10       1   \n",
       "22102     30          83            0  118221  2018    41     10       1   \n",
       "22103     30          83            0  118221  2018    42     10       1   \n",
       "22104     30          83            0  118221  2018    43     10       1   \n",
       "\n",
       "       Type_C  Weekly_sales  \n",
       "0           0    16383.8111  \n",
       "1           0    15882.6427  \n",
       "2           0    15888.7380  \n",
       "3           0    15852.0714  \n",
       "4           0    15931.9417  \n",
       "...       ...           ...  \n",
       "22100       0      472.3450  \n",
       "22101       0      524.2162  \n",
       "22102       0      533.6894  \n",
       "22103       0      581.9308  \n",
       "22104       0      612.8824  \n",
       "\n",
       "[22105 rows x 10 columns]"
      ]
     },
     "execution_count": 19,
     "metadata": {},
     "output_type": "execute_result"
    }
   ],
   "source": [
    "test_df"
   ]
  },
  {
   "cell_type": "code",
   "execution_count": 24,
   "id": "afa8441d",
   "metadata": {},
   "outputs": [],
   "source": [
    "result_df=pd.DataFrame(test_df,columns=[\"Store\",\"Department\",\"week\",\"Weekly_sales\"])\n",
    "result_df.to_csv(\"predictions.csv\",index=False)"
   ]
  },
  {
   "cell_type": "code",
   "execution_count": null,
   "id": "7318d8dd",
   "metadata": {},
   "outputs": [],
   "source": []
  },
  {
   "cell_type": "code",
   "execution_count": null,
   "id": "8425c603",
   "metadata": {},
   "outputs": [],
   "source": []
  },
  {
   "cell_type": "code",
   "execution_count": null,
   "id": "35ecbddf",
   "metadata": {},
   "outputs": [],
   "source": []
  },
  {
   "cell_type": "code",
   "execution_count": null,
   "id": "76c1647c",
   "metadata": {},
   "outputs": [],
   "source": []
  },
  {
   "cell_type": "code",
   "execution_count": null,
   "id": "d238974c",
   "metadata": {},
   "outputs": [],
   "source": []
  },
  {
   "cell_type": "code",
   "execution_count": null,
   "id": "2fa8ea13",
   "metadata": {},
   "outputs": [],
   "source": []
  },
  {
   "cell_type": "code",
   "execution_count": null,
   "id": "66b8636a",
   "metadata": {},
   "outputs": [],
   "source": []
  }
 ],
 "metadata": {
  "kernelspec": {
   "display_name": "Python 3 (ipykernel)",
   "language": "python",
   "name": "python3"
  },
  "language_info": {
   "codemirror_mode": {
    "name": "ipython",
    "version": 3
   },
   "file_extension": ".py",
   "mimetype": "text/x-python",
   "name": "python",
   "nbconvert_exporter": "python",
   "pygments_lexer": "ipython3",
   "version": "3.10.9"
  }
 },
 "nbformat": 4,
 "nbformat_minor": 5
}

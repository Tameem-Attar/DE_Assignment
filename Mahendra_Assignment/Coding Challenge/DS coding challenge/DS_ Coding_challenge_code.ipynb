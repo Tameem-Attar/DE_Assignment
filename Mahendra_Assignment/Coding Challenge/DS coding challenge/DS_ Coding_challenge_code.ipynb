{
 "cells": [
  {
   "cell_type": "code",
   "execution_count": 1,
   "id": "6e32caec",
   "metadata": {},
   "outputs": [],
   "source": [
    "import numpy as np\n",
    "import pandas as pd\n",
    "import scipy.stats as stats\n",
    "import statsmodels.stats.api as sms\n",
    "import matplotlib as mpl\n",
    "import matplotlib.pyplot as plt\n",
    "import seaborn as sns\n",
    "from sklearn.model_selection import train_test_split\n",
    "from sklearn.preprocessing import LabelEncoder\n",
    "from sklearn.linear_model import LinearRegression\n",
    "from sklearn.metrics import mean_squared_error"
   ]
  },
  {
   "cell_type": "code",
   "execution_count": 2,
   "id": "e0d5ab86",
   "metadata": {},
   "outputs": [],
   "source": [
    "train_df = pd.read_csv('C:\\\\Users\\\\SaiMahendraReddyAtlu\\\\Documents\\\\Coding Challenge\\\\DS coding challenge\\\\train.csv')"
   ]
  },
  {
   "cell_type": "code",
   "execution_count": 3,
   "id": "f429f3cd",
   "metadata": {},
   "outputs": [],
   "source": [
    "test_df = pd.read_csv('C:\\\\Users\\\\SaiMahendraReddyAtlu\\\\Documents\\\\Coding Challenge\\\\DS coding challenge\\\\test.csv')"
   ]
  },
  {
   "cell_type": "code",
   "execution_count": 4,
   "id": "fca7d8e3",
   "metadata": {},
   "outputs": [],
   "source": [
    "stores=pd.read_csv(\"C:\\\\Users\\\\SaiMahendraReddyAtlu\\\\Documents\\\\Coding Challenge\\\\DS coding challenge\\\\stores.csv\")"
   ]
  },
  {
   "cell_type": "code",
   "execution_count": 5,
   "id": "f537dc8b",
   "metadata": {},
   "outputs": [],
   "source": [
    "train_df.rename(columns={'Store_no.': 'Store'}, inplace=True)\n",
    "test_df.rename(columns={'Store_no.': 'Store'}, inplace=True)"
   ]
  },
  {
   "cell_type": "code",
   "execution_count": 6,
   "id": "2dd51d5a",
   "metadata": {},
   "outputs": [],
   "source": [
    "train_df = pd.merge(train_df, stores, on='Store', how='inner')\n",
    "test_df = pd.merge(test_df, stores, on='Store', how='inner')"
   ]
  },
  {
   "cell_type": "code",
   "execution_count": 7,
   "id": "0aa33e93",
   "metadata": {},
   "outputs": [],
   "source": [
    "train_df['Date'] = pd.to_datetime(train_df['Date'], format='%d-%m-%Y')\n",
    "train_df['year'], train_df['week'], _ = zip(*train_df['Date'].apply(lambda x: x.isocalendar()))\n",
    "train_df['month'] = train_df['Date'].dt.month"
   ]
  },
  {
   "cell_type": "code",
   "execution_count": 8,
   "id": "931ff614",
   "metadata": {},
   "outputs": [],
   "source": [
    "test_df['Date'] = pd.to_datetime(test_df['Date'], format='%d-%m-%Y')\n",
    "test_df['year'], test_df['week'], _ = zip(*test_df['Date'].apply(lambda x: x.isocalendar()))\n",
    "test_df['month'] = test_df['Date'].dt.month"
   ]
  },
  {
   "cell_type": "code",
   "execution_count": 9,
   "id": "c8fc1b93",
   "metadata": {},
   "outputs": [],
   "source": [
    "train_df.drop('Date',axis=1,inplace=True)"
   ]
  },
  {
   "cell_type": "code",
   "execution_count": 10,
   "id": "cea36ccc",
   "metadata": {},
   "outputs": [],
   "source": [
    "train_df = pd.get_dummies(train_df, columns=['Type'],drop_first=True)\n",
    "test_df = pd.get_dummies(test_df, columns=['Type'], drop_first=True)"
   ]
  },
  {
   "cell_type": "code",
   "execution_count": 11,
   "id": "7042d867",
   "metadata": {},
   "outputs": [
    {
     "data": {
      "text/plain": [
       "-15.00     25\n",
       "-5.00      14\n",
       "-2.00      13\n",
       "-4.00       9\n",
       "-12.00      9\n",
       "           ..\n",
       "-5.12       1\n",
       "-42.78      1\n",
       "-465.08     1\n",
       "-90.00      1\n",
       "-0.24       1\n",
       "Name: Weekly_sales, Length: 408, dtype: int64"
      ]
     },
     "execution_count": 11,
     "metadata": {},
     "output_type": "execute_result"
    }
   ],
   "source": [
    "train_df.loc[train_df['Weekly_sales'] < 0, 'Weekly_sales'].value_counts()"
   ]
  },
  {
   "cell_type": "code",
   "execution_count": 12,
   "id": "cb369a28",
   "metadata": {},
   "outputs": [],
   "source": [
    "train_df=train_df[train_df['Weekly_sales']>0]"
   ]
  },
  {
   "cell_type": "code",
   "execution_count": 13,
   "id": "fb47c2cc",
   "metadata": {},
   "outputs": [],
   "source": [
    "from sklearn.model_selection import train_test_split\n",
    "\n",
    "X_train, X_val, y_train, y_val = train_test_split(train_df.drop(columns=['Weekly_sales']), \n",
    "                                                  train_df['Weekly_sales'], \n",
    "                                                  test_size=0.2, \n",
    "                                                  random_state=42)\n"
   ]
  },
  {
   "cell_type": "code",
   "execution_count": 14,
   "id": "a79ff7cf",
   "metadata": {},
   "outputs": [
    {
     "name": "stdout",
     "output_type": "stream",
     "text": [
      "MAPE for Random Forest Regression: 0.654504155143873\n"
     ]
    }
   ],
   "source": [
    "\n",
    "from sklearn.metrics import mean_absolute_percentage_error\n",
    "from sklearn.ensemble import RandomForestRegressor\n",
    "\n",
    "rf_model = RandomForestRegressor(random_state=42)\n",
    "rf_model.fit(X_train, y_train)\n",
    "\n",
    "y_pred = rf_model.predict(X_val)\n",
    "mape = mean_absolute_percentage_error(y_val, y_pred)\n",
    "print(f\"MAPE for Random Forest Regression: {mape}\")"
   ]
  },
  {
   "cell_type": "code",
   "execution_count": 15,
   "id": "9cbdc63f",
   "metadata": {},
   "outputs": [
    {
     "name": "stdout",
     "output_type": "stream",
     "text": [
      "Requirement already satisfied: xgboost in c:\\users\\saimahendrareddyatlu\\anaconda3\\lib\\site-packages (1.7.5)\n",
      "Requirement already satisfied: scipy in c:\\users\\saimahendrareddyatlu\\anaconda3\\lib\\site-packages (from xgboost) (1.10.0)\n",
      "Requirement already satisfied: numpy in c:\\users\\saimahendrareddyatlu\\anaconda3\\lib\\site-packages (from xgboost) (1.23.5)\n",
      "Note: you may need to restart the kernel to use updated packages.\n"
     ]
    }
   ],
   "source": [
    "pip install xgboost"
   ]
  },
  {
   "cell_type": "code",
   "execution_count": 16,
   "id": "44ff6fe1",
   "metadata": {},
   "outputs": [
    {
     "name": "stdout",
     "output_type": "stream",
     "text": [
      "MAPE for XGBoosting Regression: 26.326513378238793\n"
     ]
    }
   ],
   "source": [
    "from xgboost import XGBRegressor as xgb\n",
    "x = xgb(random_state=42)\n",
    "x.fit(X_train, y_train)\n",
    "\n",
    "y_pred = x.predict(X_val)\n",
    "mape = mean_absolute_percentage_error(y_val, y_pred)\n",
    "print(f\"MAPE for XGBoosting Regression: {mape}\")"
   ]
  },
  {
   "cell_type": "code",
   "execution_count": 17,
   "id": "256c446b",
   "metadata": {},
   "outputs": [],
   "source": [
    "x=test_df.drop(['Date'],axis=1)\n",
    "test_pred=rf_model.predict(x)\n",
    "test_df['Weekly_sales']=test_pred"
   ]
  },
  {
   "cell_type": "code",
   "execution_count": 18,
   "id": "b58464b5",
   "metadata": {},
   "outputs": [
    {
     "data": {
      "text/html": [
       "<div>\n",
       "<style scoped>\n",
       "    .dataframe tbody tr th:only-of-type {\n",
       "        vertical-align: middle;\n",
       "    }\n",
       "\n",
       "    .dataframe tbody tr th {\n",
       "        vertical-align: top;\n",
       "    }\n",
       "\n",
       "    .dataframe thead th {\n",
       "        text-align: right;\n",
       "    }\n",
       "</style>\n",
       "<table border=\"1\" class=\"dataframe\">\n",
       "  <thead>\n",
       "    <tr style=\"text-align: right;\">\n",
       "      <th></th>\n",
       "      <th>Store</th>\n",
       "      <th>Department</th>\n",
       "      <th>Date</th>\n",
       "      <th>Holiday_ind</th>\n",
       "      <th>Size</th>\n",
       "      <th>year</th>\n",
       "      <th>week</th>\n",
       "      <th>month</th>\n",
       "      <th>Type_B</th>\n",
       "      <th>Type_C</th>\n",
       "      <th>Weekly_sales</th>\n",
       "    </tr>\n",
       "  </thead>\n",
       "  <tbody>\n",
       "    <tr>\n",
       "      <th>0</th>\n",
       "      <td>1</td>\n",
       "      <td>1</td>\n",
       "      <td>2018-08-03</td>\n",
       "      <td>0</td>\n",
       "      <td>151315</td>\n",
       "      <td>2018</td>\n",
       "      <td>31</td>\n",
       "      <td>8</td>\n",
       "      <td>0</td>\n",
       "      <td>0</td>\n",
       "      <td>16383.8111</td>\n",
       "    </tr>\n",
       "    <tr>\n",
       "      <th>1</th>\n",
       "      <td>1</td>\n",
       "      <td>1</td>\n",
       "      <td>2018-08-10</td>\n",
       "      <td>0</td>\n",
       "      <td>151315</td>\n",
       "      <td>2018</td>\n",
       "      <td>32</td>\n",
       "      <td>8</td>\n",
       "      <td>0</td>\n",
       "      <td>0</td>\n",
       "      <td>15882.6427</td>\n",
       "    </tr>\n",
       "    <tr>\n",
       "      <th>2</th>\n",
       "      <td>1</td>\n",
       "      <td>1</td>\n",
       "      <td>2018-08-17</td>\n",
       "      <td>0</td>\n",
       "      <td>151315</td>\n",
       "      <td>2018</td>\n",
       "      <td>33</td>\n",
       "      <td>8</td>\n",
       "      <td>0</td>\n",
       "      <td>0</td>\n",
       "      <td>15888.7380</td>\n",
       "    </tr>\n",
       "    <tr>\n",
       "      <th>3</th>\n",
       "      <td>1</td>\n",
       "      <td>1</td>\n",
       "      <td>2018-08-24</td>\n",
       "      <td>0</td>\n",
       "      <td>151315</td>\n",
       "      <td>2018</td>\n",
       "      <td>34</td>\n",
       "      <td>8</td>\n",
       "      <td>0</td>\n",
       "      <td>0</td>\n",
       "      <td>15852.0714</td>\n",
       "    </tr>\n",
       "    <tr>\n",
       "      <th>4</th>\n",
       "      <td>1</td>\n",
       "      <td>1</td>\n",
       "      <td>2018-08-31</td>\n",
       "      <td>0</td>\n",
       "      <td>151315</td>\n",
       "      <td>2018</td>\n",
       "      <td>35</td>\n",
       "      <td>8</td>\n",
       "      <td>0</td>\n",
       "      <td>0</td>\n",
       "      <td>15931.9417</td>\n",
       "    </tr>\n",
       "    <tr>\n",
       "      <th>...</th>\n",
       "      <td>...</td>\n",
       "      <td>...</td>\n",
       "      <td>...</td>\n",
       "      <td>...</td>\n",
       "      <td>...</td>\n",
       "      <td>...</td>\n",
       "      <td>...</td>\n",
       "      <td>...</td>\n",
       "      <td>...</td>\n",
       "      <td>...</td>\n",
       "      <td>...</td>\n",
       "    </tr>\n",
       "    <tr>\n",
       "      <th>22100</th>\n",
       "      <td>30</td>\n",
       "      <td>83</td>\n",
       "      <td>2018-09-28</td>\n",
       "      <td>0</td>\n",
       "      <td>118221</td>\n",
       "      <td>2018</td>\n",
       "      <td>39</td>\n",
       "      <td>9</td>\n",
       "      <td>1</td>\n",
       "      <td>0</td>\n",
       "      <td>472.3450</td>\n",
       "    </tr>\n",
       "    <tr>\n",
       "      <th>22101</th>\n",
       "      <td>30</td>\n",
       "      <td>83</td>\n",
       "      <td>2018-10-05</td>\n",
       "      <td>0</td>\n",
       "      <td>118221</td>\n",
       "      <td>2018</td>\n",
       "      <td>40</td>\n",
       "      <td>10</td>\n",
       "      <td>1</td>\n",
       "      <td>0</td>\n",
       "      <td>524.2162</td>\n",
       "    </tr>\n",
       "    <tr>\n",
       "      <th>22102</th>\n",
       "      <td>30</td>\n",
       "      <td>83</td>\n",
       "      <td>2018-10-12</td>\n",
       "      <td>0</td>\n",
       "      <td>118221</td>\n",
       "      <td>2018</td>\n",
       "      <td>41</td>\n",
       "      <td>10</td>\n",
       "      <td>1</td>\n",
       "      <td>0</td>\n",
       "      <td>533.6894</td>\n",
       "    </tr>\n",
       "    <tr>\n",
       "      <th>22103</th>\n",
       "      <td>30</td>\n",
       "      <td>83</td>\n",
       "      <td>2018-10-19</td>\n",
       "      <td>0</td>\n",
       "      <td>118221</td>\n",
       "      <td>2018</td>\n",
       "      <td>42</td>\n",
       "      <td>10</td>\n",
       "      <td>1</td>\n",
       "      <td>0</td>\n",
       "      <td>581.9308</td>\n",
       "    </tr>\n",
       "    <tr>\n",
       "      <th>22104</th>\n",
       "      <td>30</td>\n",
       "      <td>83</td>\n",
       "      <td>2018-10-26</td>\n",
       "      <td>0</td>\n",
       "      <td>118221</td>\n",
       "      <td>2018</td>\n",
       "      <td>43</td>\n",
       "      <td>10</td>\n",
       "      <td>1</td>\n",
       "      <td>0</td>\n",
       "      <td>612.8824</td>\n",
       "    </tr>\n",
       "  </tbody>\n",
       "</table>\n",
       "<p>22105 rows × 11 columns</p>\n",
       "</div>"
      ],
      "text/plain": [
       "       Store  Department       Date  Holiday_ind    Size  year  week  month  \\\n",
       "0          1           1 2018-08-03            0  151315  2018    31      8   \n",
       "1          1           1 2018-08-10            0  151315  2018    32      8   \n",
       "2          1           1 2018-08-17            0  151315  2018    33      8   \n",
       "3          1           1 2018-08-24            0  151315  2018    34      8   \n",
       "4          1           1 2018-08-31            0  151315  2018    35      8   \n",
       "...      ...         ...        ...          ...     ...   ...   ...    ...   \n",
       "22100     30          83 2018-09-28            0  118221  2018    39      9   \n",
       "22101     30          83 2018-10-05            0  118221  2018    40     10   \n",
       "22102     30          83 2018-10-12            0  118221  2018    41     10   \n",
       "22103     30          83 2018-10-19            0  118221  2018    42     10   \n",
       "22104     30          83 2018-10-26            0  118221  2018    43     10   \n",
       "\n",
       "       Type_B  Type_C  Weekly_sales  \n",
       "0           0       0    16383.8111  \n",
       "1           0       0    15882.6427  \n",
       "2           0       0    15888.7380  \n",
       "3           0       0    15852.0714  \n",
       "4           0       0    15931.9417  \n",
       "...       ...     ...           ...  \n",
       "22100       1       0      472.3450  \n",
       "22101       1       0      524.2162  \n",
       "22102       1       0      533.6894  \n",
       "22103       1       0      581.9308  \n",
       "22104       1       0      612.8824  \n",
       "\n",
       "[22105 rows x 11 columns]"
      ]
     },
     "execution_count": 18,
     "metadata": {},
     "output_type": "execute_result"
    }
   ],
   "source": [
    "test_df"
   ]
  },
  {
   "cell_type": "code",
   "execution_count": 19,
   "id": "26781a90",
   "metadata": {},
   "outputs": [],
   "source": [
    "submission=test_df.drop(['Holiday_ind','Size','year','week','month','Type_B','Type_C'],axis=1)"
   ]
  },
  {
   "cell_type": "code",
   "execution_count": 20,
   "id": "a62b055b",
   "metadata": {},
   "outputs": [
    {
     "data": {
      "text/html": [
       "<div>\n",
       "<style scoped>\n",
       "    .dataframe tbody tr th:only-of-type {\n",
       "        vertical-align: middle;\n",
       "    }\n",
       "\n",
       "    .dataframe tbody tr th {\n",
       "        vertical-align: top;\n",
       "    }\n",
       "\n",
       "    .dataframe thead th {\n",
       "        text-align: right;\n",
       "    }\n",
       "</style>\n",
       "<table border=\"1\" class=\"dataframe\">\n",
       "  <thead>\n",
       "    <tr style=\"text-align: right;\">\n",
       "      <th></th>\n",
       "      <th>Store</th>\n",
       "      <th>Department</th>\n",
       "      <th>Date</th>\n",
       "      <th>Weekly_sales</th>\n",
       "    </tr>\n",
       "  </thead>\n",
       "  <tbody>\n",
       "    <tr>\n",
       "      <th>0</th>\n",
       "      <td>1</td>\n",
       "      <td>1</td>\n",
       "      <td>2018-08-03</td>\n",
       "      <td>16383.8111</td>\n",
       "    </tr>\n",
       "    <tr>\n",
       "      <th>1</th>\n",
       "      <td>1</td>\n",
       "      <td>1</td>\n",
       "      <td>2018-08-10</td>\n",
       "      <td>15882.6427</td>\n",
       "    </tr>\n",
       "    <tr>\n",
       "      <th>2</th>\n",
       "      <td>1</td>\n",
       "      <td>1</td>\n",
       "      <td>2018-08-17</td>\n",
       "      <td>15888.7380</td>\n",
       "    </tr>\n",
       "    <tr>\n",
       "      <th>3</th>\n",
       "      <td>1</td>\n",
       "      <td>1</td>\n",
       "      <td>2018-08-24</td>\n",
       "      <td>15852.0714</td>\n",
       "    </tr>\n",
       "    <tr>\n",
       "      <th>4</th>\n",
       "      <td>1</td>\n",
       "      <td>1</td>\n",
       "      <td>2018-08-31</td>\n",
       "      <td>15931.9417</td>\n",
       "    </tr>\n",
       "    <tr>\n",
       "      <th>...</th>\n",
       "      <td>...</td>\n",
       "      <td>...</td>\n",
       "      <td>...</td>\n",
       "      <td>...</td>\n",
       "    </tr>\n",
       "    <tr>\n",
       "      <th>22100</th>\n",
       "      <td>30</td>\n",
       "      <td>83</td>\n",
       "      <td>2018-09-28</td>\n",
       "      <td>472.3450</td>\n",
       "    </tr>\n",
       "    <tr>\n",
       "      <th>22101</th>\n",
       "      <td>30</td>\n",
       "      <td>83</td>\n",
       "      <td>2018-10-05</td>\n",
       "      <td>524.2162</td>\n",
       "    </tr>\n",
       "    <tr>\n",
       "      <th>22102</th>\n",
       "      <td>30</td>\n",
       "      <td>83</td>\n",
       "      <td>2018-10-12</td>\n",
       "      <td>533.6894</td>\n",
       "    </tr>\n",
       "    <tr>\n",
       "      <th>22103</th>\n",
       "      <td>30</td>\n",
       "      <td>83</td>\n",
       "      <td>2018-10-19</td>\n",
       "      <td>581.9308</td>\n",
       "    </tr>\n",
       "    <tr>\n",
       "      <th>22104</th>\n",
       "      <td>30</td>\n",
       "      <td>83</td>\n",
       "      <td>2018-10-26</td>\n",
       "      <td>612.8824</td>\n",
       "    </tr>\n",
       "  </tbody>\n",
       "</table>\n",
       "<p>22105 rows × 4 columns</p>\n",
       "</div>"
      ],
      "text/plain": [
       "       Store  Department       Date  Weekly_sales\n",
       "0          1           1 2018-08-03    16383.8111\n",
       "1          1           1 2018-08-10    15882.6427\n",
       "2          1           1 2018-08-17    15888.7380\n",
       "3          1           1 2018-08-24    15852.0714\n",
       "4          1           1 2018-08-31    15931.9417\n",
       "...      ...         ...        ...           ...\n",
       "22100     30          83 2018-09-28      472.3450\n",
       "22101     30          83 2018-10-05      524.2162\n",
       "22102     30          83 2018-10-12      533.6894\n",
       "22103     30          83 2018-10-19      581.9308\n",
       "22104     30          83 2018-10-26      612.8824\n",
       "\n",
       "[22105 rows x 4 columns]"
      ]
     },
     "execution_count": 20,
     "metadata": {},
     "output_type": "execute_result"
    }
   ],
   "source": [
    "submission"
   ]
  },
  {
   "cell_type": "code",
   "execution_count": 21,
   "id": "bf1a4d98",
   "metadata": {},
   "outputs": [],
   "source": [
    "submission.to_csv('csv_submission.csv', index=False)"
   ]
  },
  {
   "cell_type": "code",
   "execution_count": null,
   "id": "ea92b1cb",
   "metadata": {},
   "outputs": [],
   "source": []
  }
 ],
 "metadata": {
  "kernelspec": {
   "display_name": "Python 3 (ipykernel)",
   "language": "python",
   "name": "python3"
  },
  "language_info": {
   "codemirror_mode": {
    "name": "ipython",
    "version": 3
   },
   "file_extension": ".py",
   "mimetype": "text/x-python",
   "name": "python",
   "nbconvert_exporter": "python",
   "pygments_lexer": "ipython3",
   "version": "3.10.9"
  }
 },
 "nbformat": 4,
 "nbformat_minor": 5
}
